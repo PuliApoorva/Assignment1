{
 "cells": [
  {
   "cell_type": "code",
   "execution_count": 19,
   "id": "3e2b5a57-c51d-4444-a0cf-bc3c9e617dbf",
   "metadata": {},
   "outputs": [],
   "source": [
    "class State:\n",
    "    def __init__(self, x, y, parent, n,g=0):\n",
    "        self.x = x\n",
    "        self.y = y\n",
    "        self.parent = parent\n",
    "        self.g=g\n",
    "        self.h = abs(x - (n-1)) + abs(y - (n-1))   \n",
    "        self.f=self.g+self.h\n",
    "\n",
    "    def isGoal(self, n):\n",
    "        return self.x == n-1 and self.y == n-1\n",
    "\n",
    "    def getPath(self):\n",
    "        path = []\n",
    "        current = self\n",
    "        while current is not None:\n",
    "            path.append((current.x, current.y))\n",
    "            current = current.parent\n",
    "        path.reverse()\n",
    "        return path\n",
    "    def moveGen(self , closed,grid):\n",
    "        n=len(grid)\n",
    "        directions = [(-1, 0), (1, 0), (0, -1), (0, 1),(-1, -1), (-1, 1), (1, -1), (1, 1)]\n",
    "        children = []\n",
    "        for dx, dy in directions:\n",
    "            newx, newy = self.x + dx, self.y + dy\n",
    "            if 0 <= newx < n and 0 <= newy < n:\n",
    "                if grid[newx][newy] == 0 and (newx, newy) not in closed:\n",
    "                    children.append(State(newx, newy, self, n))\n",
    "        return children"
   ]
  },
  {
   "cell_type": "code",
   "execution_count": 20,
   "id": "b005dde0-59b2-4e79-80db-b82b296140aa",
   "metadata": {},
   "outputs": [],
   "source": [
    "def best_first_search(grid):\n",
    "    n = len(grid)\n",
    "    if grid[0][0] == 1 or grid[n-1][n-1] == 1:\n",
    "        return -1, []\n",
    "\n",
    "    start = State(0, 0, None, n)\n",
    "    open_list = [start]\n",
    "    closed = []\n",
    "\n",
    "    while open_list:\n",
    "        # Pick node with smallest heuristic\n",
    "        min_index = 0\n",
    "        for i in range(1, len(open_list)):\n",
    "            if open_list[i].h < open_list[min_index].h:\n",
    "                min_index = i\n",
    "        current = open_list.pop(min_index)\n",
    "\n",
    "        if current.isGoal(n):\n",
    "            path = current.getPath()\n",
    "            return len(path), path\n",
    "\n",
    "        closed.append((current.x, current.y))\n",
    "\n",
    "        children = current.moveGen(closed,grid)\n",
    "        open_list=open_list+children\n",
    "\n",
    "    return -1, []"
   ]
  },
  {
   "cell_type": "code",
   "execution_count": 30,
   "id": "dca42f36-1c43-4dbd-a95e-899492769066",
   "metadata": {},
   "outputs": [],
   "source": [
    "def a_star_search(grid):\n",
    "    n = len(grid)\n",
    "    if grid[0][0] == 1 or grid[n-1][n-1] == 1:\n",
    "        return -1, []\n",
    "\n",
    "    start = State(0, 0, None, n, g=1)\n",
    "    open_list = [start]\n",
    "    closed = {}\n",
    "\n",
    "    while open_list:\n",
    "        # pick state with smallest f\n",
    "        min_index = 0\n",
    "        for i in range(1, len(open_list)):\n",
    "            if open_list[i].f < open_list[min_index].f:\n",
    "                min_index = i\n",
    "        current = open_list.pop(min_index)\n",
    "\n",
    "        if current.isGoal(n):\n",
    "            return len(current.getPath()), current.getPath()\n",
    "\n",
    "        closed[(current.x, current.y)] = current.g\n",
    "        directions = [(-1, 0), (1, 0), (0, -1), (0, 1),(-1, -1), (-1, 1), (1, -1), (1, 1)]\n",
    "        \n",
    "        for dx, dy in directions:\n",
    "            nx, ny = current.x + dx, current.y + dy\n",
    "            if 0 <= nx < n and 0 <= ny < n and grid[nx][ny] == 0:\n",
    "                g_new = current.g + 1\n",
    "                if (nx, ny) in closed and closed[(nx, ny)] <= g_new:\n",
    "                    continue\n",
    "                open_list.append(State(nx, ny, current, n, g_new))\n",
    "\n",
    "    return -1, []"
   ]
  },
  {
   "cell_type": "code",
   "execution_count": 31,
   "id": "9ae83b4e-8005-4527-aac2-02ae2d6abd3f",
   "metadata": {},
   "outputs": [
    {
     "name": "stdout",
     "output_type": "stream",
     "text": [
      "(2, [(0, 0), (1, 1)])\n",
      "(2, [(0, 0), (1, 1)])\n"
     ]
    }
   ],
   "source": [
    "grid1=[[0, 1],[1, 0]]\n",
    "\n",
    "bpath1=best_first_search(grid1)\n",
    "apath1=a_star_search(grid1)\n",
    "\n",
    "print(bpath1)\n",
    "print(apath1)"
   ]
  },
  {
   "cell_type": "code",
   "execution_count": 32,
   "id": "1a3c0d11-cee6-4d5d-93de-6c5db9a73dc4",
   "metadata": {},
   "outputs": [
    {
     "name": "stdout",
     "output_type": "stream",
     "text": [
      "(4, [(0, 0), (0, 1), (1, 2), (2, 2)])\n",
      "(4, [(0, 0), (0, 1), (1, 2), (2, 2)])\n"
     ]
    }
   ],
   "source": [
    "grid2= [[0, 0, 0],[1, 1, 0],[1, 1, 0]]\n",
    "\n",
    "bpath2=best_first_search(grid2)\n",
    "apath2=a_star_search(grid2)\n",
    "\n",
    "print(bpath2)\n",
    "print(apath2)"
   ]
  },
  {
   "cell_type": "code",
   "execution_count": 33,
   "id": "8fc332bc-8e46-4982-af9e-47c9393926c0",
   "metadata": {},
   "outputs": [
    {
     "name": "stdout",
     "output_type": "stream",
     "text": [
      "(-1, [])\n",
      "(-1, [])\n"
     ]
    }
   ],
   "source": [
    "grid3= [[1, 0, 0],[1, 1, 0],[1, 1, 0]]\n",
    "\n",
    "bpath3=best_first_search(grid3)\n",
    "apath3=a_star_search(grid3)\n",
    "\n",
    "print(apath3)\n",
    "print(bpath3)"
   ]
  },
  {
  
 ],
 "metadata": {
  "kernelspec": {
   "display_name": "Python 3 (ipykernel)",
   "language": "python",
   "name": "python3"
  },
  "language_info": {
   "codemirror_mode": {
    "name": "ipython",
    "version": 3
   },
   "file_extension": ".py",
   "mimetype": "text/x-python",
   "name": "python",
   "nbconvert_exporter": "python",
   "pygments_lexer": "ipython3",
   "version": "3.10.12"
  }
 },
 "nbformat": 4,
 "nbformat_minor": 5
}











